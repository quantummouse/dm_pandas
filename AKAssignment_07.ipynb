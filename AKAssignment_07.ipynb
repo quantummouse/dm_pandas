{
  "nbformat": 4,
  "nbformat_minor": 0,
  "metadata": {
    "colab": {
      "name": "AKAssignment_07.ipynb",
      "provenance": [],
      "collapsed_sections": [],
      "toc_visible": true,
      "include_colab_link": true
    },
    "kernelspec": {
      "name": "python3",
      "display_name": "Python 3"
    }
  },
  "cells": [
    {
      "cell_type": "markdown",
      "metadata": {
        "id": "view-in-github",
        "colab_type": "text"
      },
      "source": [
        "<a href=\"https://colab.research.google.com/github/quantummouse/dm_pandas/blob/master/AKAssignment_07.ipynb\" target=\"_parent\"><img src=\"https://colab.research.google.com/assets/colab-badge.svg\" alt=\"Open In Colab\"/></a>"
      ]
    },
    {
      "cell_type": "markdown",
      "metadata": {
        "id": "XBfg9Dn0oX11"
      },
      "source": [
        "# Assignment for Week 7"
      ]
    },
    {
      "cell_type": "markdown",
      "metadata": {
        "id": "JfzdDSEJojQk"
      },
      "source": [
        "## Purpose          \n",
        "This assignment is intended to help you do the following:      \n",
        "  - Groupby operations to aggregate, transform, and filter data      \n",
        "  - Built-in and custom user functions to perform groupby operations\n"
      ]
    },
    {
      "cell_type": "markdown",
      "metadata": {
        "id": "nYkSucbCm84C"
      },
      "source": [
        "## About the assignment\n",
        "\n",
        "The function 'get_data_table' takes 4 parameters, df, date_col, group_col, type_x.      \n",
        "  - The 'df' represents the dataframe.      \n",
        "  -The 'date_col' represents the date column.      \n",
        "  -The group_col represents the column to groupby and        \n",
        "  -The 'type_x' represents the column with a specific value/category == 'type_x'. "
      ]
    },
    {
      "cell_type": "code",
      "metadata": {
        "id": "ZwdNwWNwoebk"
      },
      "source": [
        "def get_data_table(df, date_col, group_col, type_x):\n",
        "    df_gross = (df.loc[(df.type == type_x) &\n",
        "                                      df.category.isin(['category_x', 'category_xy', 'category_xyz'])\n",
        "                                     ]\n",
        "                         .groupby([group_col, date_col]).sum()\n",
        "                         .unstack(date_col)['amount'].fillna(0)\n",
        "                         .resample('M', axis=1).sum()\n",
        "                        )\n",
        "\n",
        "    df_recovered = (df.loc[(df.type == type_x) &\n",
        "                                  df.category.isin(['category_01', 'category_05', 'category_07'])\n",
        "                                 ]\n",
        "                    .groupby([group_col, date_col]).sum()\n",
        "                    .unstack(date_col)['amount'].fillna(0)\n",
        "                    .resample('M', axis=1).sum()\n",
        "                    )\n",
        "\n",
        "    return df_gross.add(df_recovered * -1, fill_value=0)\n",
        "    "
      ],
      "execution_count": null,
      "outputs": []
    },
    {
      "cell_type": "markdown",
      "metadata": {
        "id": "3Z3KIPaWtEXv"
      },
      "source": [
        "## Tasks   \n",
        "  1. Read the function above and in a 1-3 paragraphs explain its purpose    \n",
        "\n",
        "  2. Apply the function to your selected dataframe and modify as needed based on your preferences.    \n",
        "\n",
        "  3. Write 1-3 paragraphs to explain the differences or challenges when you applied the function to your chosen dataframe.\n",
        "\n",
        "  4. Post your version of the above code on your GitHub account. Do not forget a README file with explanations.\n",
        "\n",
        "\n"
      ]
    },
    {
      "cell_type": "markdown",
      "metadata": {
        "id": "k-IrPyOXEI4F"
      },
      "source": [
        "Function is named get_data_table and it has 4 parameters - the dataframe df, date_col for date column, group_col for is column to group by, and type_x represents column with specific value. \n",
        "df_gross is finding the column with specific df.type and df.category that's in specific categoreis - category_x, category_xy, or category_xyz. Then this is gropued by the specific column specified by the group_col and date_col where the values are summed up due to .sum action. The unstack works to basically pivot the column labels 'amount' and then fill non existant values with a 0. Then this is fed to resample -which is operating on data/time values. M is month frequency. And axis=1 implies using columns, not index. \n",
        "Another variable is created in the funciton and is called df_recovered. And everything is summed.\n",
        "What is returned from the function df_gross is that you add another element to the dataframe. It's multiplying df)Recovered part by -1 and any values with missing or NAN values will be 0"
      ]
    },
    {
      "cell_type": "code",
      "metadata": {
        "id": "17E5y_uLO0g7"
      },
      "source": [
        ""
      ],
      "execution_count": null,
      "outputs": []
    }
  ]
}