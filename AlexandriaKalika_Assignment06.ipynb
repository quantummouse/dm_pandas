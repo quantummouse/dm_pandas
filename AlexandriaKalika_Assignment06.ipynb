{
  "nbformat": 4,
  "nbformat_minor": 0,
  "metadata": {
    "colab": {
      "name": "AlexandriaKalika_Assignment06.ipynb",
      "provenance": [],
      "collapsed_sections": [],
      "toc_visible": true,
      "include_colab_link": true
    },
    "kernelspec": {
      "name": "python3",
      "display_name": "Python 3"
    }
  },
  "cells": [
    {
      "cell_type": "markdown",
      "metadata": {
        "id": "view-in-github",
        "colab_type": "text"
      },
      "source": [
        "<a href=\"https://colab.research.google.com/github/quantummouse/dm_pandas/blob/master/AlexandriaKalika_Assignment06.ipynb\" target=\"_parent\"><img src=\"https://colab.research.google.com/assets/colab-badge.svg\" alt=\"Open In Colab\"/></a>"
      ]
    },
    {
      "cell_type": "markdown",
      "metadata": {
        "id": "itDxvmaoOgOI"
      },
      "source": [
        "# Assignment for Week 6      \n",
        "\n",
        "Alexandria Kalika"
      ]
    },
    {
      "cell_type": "code",
      "metadata": {
        "id": "ekZcro4TOeGC",
        "outputId": "f2dfca3f-9b6c-4216-850a-cc72a7308f7d",
        "colab": {
          "base_uri": "https://localhost:8080/"
        }
      },
      "source": [
        "from google.colab import drive\n",
        "drive.mount('/content/drive')"
      ],
      "execution_count": 1,
      "outputs": [
        {
          "output_type": "stream",
          "text": [
            "Mounted at /content/drive\n"
          ],
          "name": "stdout"
        }
      ]
    },
    {
      "cell_type": "markdown",
      "metadata": {
        "id": "TzDuUf45Ow3f"
      },
      "source": [
        "## Action Items:       \n",
        " Working with strings.\n",
        "\n",
        "    Clean a column on your data set using regular expression methods.\n",
        "\n",
        "    Store the cleaned column into another column of your data set and call it “your_col_name_cleaned”.\n",
        "\n",
        "    *Another data set will be provided if your data set is not appropriate to apply regular expression methods.\n",
        "\n",
        "1.   Create a function that returns the mean, sum, mode, median, and range (separately)      \n",
        "2.   Run the function into your chosen data set using the .apply() method.     \n",
        "3.   Post your work on GitHub\n"
      ]
    },
    {
      "cell_type": "code",
      "metadata": {
        "id": "slN6d0k5OQW8"
      },
      "source": [
        "import pandas as pd\n",
        "import numpy as np\n",
        "from numpy import NaN, NAN, nan\n",
        "\n"
      ],
      "execution_count": 2,
      "outputs": []
    },
    {
      "cell_type": "code",
      "metadata": {
        "id": "6lD7cVGmVWh2",
        "outputId": "9201e27a-48e9-4d8e-9a9d-1db0059d531e",
        "colab": {
          "base_uri": "https://localhost:8080/"
        }
      },
      "source": [
        "drugsutil = pd.read_csv(\"/content/drive/My Drive/Colab Notebooks/State_Drug_Utilization_Data_2010.csv\")"
      ],
      "execution_count": 3,
      "outputs": [
        {
          "output_type": "stream",
          "text": [
            "/usr/local/lib/python3.6/dist-packages/IPython/core/interactiveshell.py:2718: DtypeWarning: Columns (4,19) have mixed types.Specify dtype option on import or set low_memory=False.\n",
            "  interactivity=interactivity, compiler=compiler, result=result)\n"
          ],
          "name": "stderr"
        }
      ]
    },
    {
      "cell_type": "code",
      "metadata": {
        "id": "IVNv46ucYAUg",
        "outputId": "79d38900-37f9-42f1-c6cf-6580e60bcaa7",
        "colab": {
          "base_uri": "https://localhost:8080/",
          "height": 348
        }
      },
      "source": [
        "drugsutil.head(5)"
      ],
      "execution_count": null,
      "outputs": [
        {
          "output_type": "execute_result",
          "data": {
            "text/html": [
              "<div>\n",
              "<style scoped>\n",
              "    .dataframe tbody tr th:only-of-type {\n",
              "        vertical-align: middle;\n",
              "    }\n",
              "\n",
              "    .dataframe tbody tr th {\n",
              "        vertical-align: top;\n",
              "    }\n",
              "\n",
              "    .dataframe thead th {\n",
              "        text-align: right;\n",
              "    }\n",
              "</style>\n",
              "<table border=\"1\" class=\"dataframe\">\n",
              "  <thead>\n",
              "    <tr style=\"text-align: right;\">\n",
              "      <th></th>\n",
              "      <th>Utilization Type</th>\n",
              "      <th>State</th>\n",
              "      <th>Labeler Code</th>\n",
              "      <th>Product Code</th>\n",
              "      <th>Package Size</th>\n",
              "      <th>Year</th>\n",
              "      <th>Quarter</th>\n",
              "      <th>Product Name</th>\n",
              "      <th>Units Reimbursed</th>\n",
              "      <th>Suppression Used</th>\n",
              "      <th>Number of Prescriptions</th>\n",
              "      <th>Total Amount Reimbursed</th>\n",
              "      <th>Medicaid Amount Reimbursed</th>\n",
              "      <th>Non Medicaid Amount Reimbursed</th>\n",
              "      <th>Quarter Begin</th>\n",
              "      <th>Quarter Begin Date</th>\n",
              "      <th>Latitude</th>\n",
              "      <th>Longitude</th>\n",
              "      <th>Location</th>\n",
              "      <th>NDC</th>\n",
              "    </tr>\n",
              "  </thead>\n",
              "  <tbody>\n",
              "    <tr>\n",
              "      <th>0</th>\n",
              "      <td>FFSU</td>\n",
              "      <td>WI</td>\n",
              "      <td>17478</td>\n",
              "      <td>214</td>\n",
              "      <td>20</td>\n",
              "      <td>2010</td>\n",
              "      <td>3</td>\n",
              "      <td>ATROPINE C</td>\n",
              "      <td>NaN</td>\n",
              "      <td>True</td>\n",
              "      <td>NaN</td>\n",
              "      <td>NaN</td>\n",
              "      <td>NaN</td>\n",
              "      <td>NaN</td>\n",
              "      <td>7/1</td>\n",
              "      <td>07/01/2010</td>\n",
              "      <td>37.7680</td>\n",
              "      <td>-78.2057</td>\n",
              "      <td>(37.768, -78.2057)</td>\n",
              "      <td>17478021420</td>\n",
              "    </tr>\n",
              "    <tr>\n",
              "      <th>1</th>\n",
              "      <td>FFSU</td>\n",
              "      <td>NH</td>\n",
              "      <td>409</td>\n",
              "      <td>1165</td>\n",
              "      <td>2</td>\n",
              "      <td>2010</td>\n",
              "      <td>3</td>\n",
              "      <td>BUPIVACAIN</td>\n",
              "      <td>NaN</td>\n",
              "      <td>True</td>\n",
              "      <td>NaN</td>\n",
              "      <td>NaN</td>\n",
              "      <td>NaN</td>\n",
              "      <td>NaN</td>\n",
              "      <td>7/1</td>\n",
              "      <td>07/01/2010</td>\n",
              "      <td>47.5362</td>\n",
              "      <td>-99.7930</td>\n",
              "      <td>(47.5362, -99.793)</td>\n",
              "      <td>409116502</td>\n",
              "    </tr>\n",
              "    <tr>\n",
              "      <th>2</th>\n",
              "      <td>FFSU</td>\n",
              "      <td>XX</td>\n",
              "      <td>338</td>\n",
              "      <td>629</td>\n",
              "      <td>4</td>\n",
              "      <td>2010</td>\n",
              "      <td>4</td>\n",
              "      <td>TRAVASOL 1</td>\n",
              "      <td>164627000.0</td>\n",
              "      <td>False</td>\n",
              "      <td>29.0</td>\n",
              "      <td>27541.1</td>\n",
              "      <td>27541.10</td>\n",
              "      <td>0.00</td>\n",
              "      <td>10/1</td>\n",
              "      <td>10/01/2010</td>\n",
              "      <td>NaN</td>\n",
              "      <td>NaN</td>\n",
              "      <td>NaN</td>\n",
              "      <td>338062904</td>\n",
              "    </tr>\n",
              "    <tr>\n",
              "      <th>3</th>\n",
              "      <td>FFSU</td>\n",
              "      <td>TN</td>\n",
              "      <td>68382</td>\n",
              "      <td>99</td>\n",
              "      <td>6</td>\n",
              "      <td>2010</td>\n",
              "      <td>4</td>\n",
              "      <td>PAROXETINE</td>\n",
              "      <td>11157.5</td>\n",
              "      <td>False</td>\n",
              "      <td>296.0</td>\n",
              "      <td>3131.1</td>\n",
              "      <td>3105.18</td>\n",
              "      <td>25.92</td>\n",
              "      <td>10/1</td>\n",
              "      <td>10/01/2010</td>\n",
              "      <td>41.6772</td>\n",
              "      <td>-71.5101</td>\n",
              "      <td>(41.6772, -71.5101)</td>\n",
              "      <td>68382009906</td>\n",
              "    </tr>\n",
              "    <tr>\n",
              "      <th>4</th>\n",
              "      <td>FFSU</td>\n",
              "      <td>WY</td>\n",
              "      <td>472</td>\n",
              "      <td>911</td>\n",
              "      <td>45</td>\n",
              "      <td>2010</td>\n",
              "      <td>4</td>\n",
              "      <td>METRONIDAZ</td>\n",
              "      <td>NaN</td>\n",
              "      <td>True</td>\n",
              "      <td>NaN</td>\n",
              "      <td>NaN</td>\n",
              "      <td>NaN</td>\n",
              "      <td>NaN</td>\n",
              "      <td>10/1</td>\n",
              "      <td>10/01/2010</td>\n",
              "      <td>44.0407</td>\n",
              "      <td>-72.7093</td>\n",
              "      <td>(44.0407, -72.7093)</td>\n",
              "      <td>472091145</td>\n",
              "    </tr>\n",
              "  </tbody>\n",
              "</table>\n",
              "</div>"
            ],
            "text/plain": [
              "  Utilization Type State  ...             Location          NDC\n",
              "0             FFSU    WI  ...   (37.768, -78.2057)  17478021420\n",
              "1             FFSU    NH  ...   (47.5362, -99.793)    409116502\n",
              "2             FFSU    XX  ...                  NaN    338062904\n",
              "3             FFSU    TN  ...  (41.6772, -71.5101)  68382009906\n",
              "4             FFSU    WY  ...  (44.0407, -72.7093)    472091145\n",
              "\n",
              "[5 rows x 20 columns]"
            ]
          },
          "metadata": {
            "tags": []
          },
          "execution_count": 4
        }
      ]
    },
    {
      "cell_type": "code",
      "metadata": {
        "id": "a6emwIuDu_l4",
        "outputId": "508c434b-ccc0-48d4-f41e-79e3c80ab14d",
        "colab": {
          "base_uri": "https://localhost:8080/"
        }
      },
      "source": [
        "#extractColm = drugsutil['Location']\n",
        "#extractColm\n",
        "#I'd like to extract the value of the Longitude and Latitude from the parantethis and just have those values in a column\n",
        "drugsutil['Location_cleaned'] = drugsutil['Location'].str.extract('.*\\((.*)\\).*', expand=False).str.strip()\n",
        "drugsutil['Location_cleaned']"
      ],
      "execution_count": 4,
      "outputs": [
        {
          "output_type": "execute_result",
          "data": {
            "text/plain": [
              "0           37.768, -78.2057\n",
              "1           47.5362, -99.793\n",
              "2                        NaN\n",
              "3          41.6772, -71.5101\n",
              "4          44.0407, -72.7093\n",
              "                 ...        \n",
              "3124384     40.5773, -77.264\n",
              "3124385    43.3504, -84.5603\n",
              "3124386    45.7326, -93.9196\n",
              "3124387    41.1289, -98.2883\n",
              "3124388     42.0046, -93.214\n",
              "Name: Location_cleaned, Length: 3124389, dtype: object"
            ]
          },
          "metadata": {
            "tags": []
          },
          "execution_count": 4
        }
      ]
    },
    {
      "cell_type": "code",
      "metadata": {
        "id": "WoCGpM6g2m0B",
        "outputId": "66cbcd4a-a395-4766-ed73-c6c3d870f5bc",
        "colab": {
          "base_uri": "https://localhost:8080/",
          "height": 348
        }
      },
      "source": [
        "drugsutil.head(5)\n",
        "#Shows a new column Location_cleaned and that the data in it has coordinates without paranthesis"
      ],
      "execution_count": null,
      "outputs": [
        {
          "output_type": "execute_result",
          "data": {
            "text/html": [
              "<div>\n",
              "<style scoped>\n",
              "    .dataframe tbody tr th:only-of-type {\n",
              "        vertical-align: middle;\n",
              "    }\n",
              "\n",
              "    .dataframe tbody tr th {\n",
              "        vertical-align: top;\n",
              "    }\n",
              "\n",
              "    .dataframe thead th {\n",
              "        text-align: right;\n",
              "    }\n",
              "</style>\n",
              "<table border=\"1\" class=\"dataframe\">\n",
              "  <thead>\n",
              "    <tr style=\"text-align: right;\">\n",
              "      <th></th>\n",
              "      <th>Utilization Type</th>\n",
              "      <th>State</th>\n",
              "      <th>Labeler Code</th>\n",
              "      <th>Product Code</th>\n",
              "      <th>Package Size</th>\n",
              "      <th>Year</th>\n",
              "      <th>Quarter</th>\n",
              "      <th>Product Name</th>\n",
              "      <th>Units Reimbursed</th>\n",
              "      <th>Suppression Used</th>\n",
              "      <th>Number of Prescriptions</th>\n",
              "      <th>Total Amount Reimbursed</th>\n",
              "      <th>Medicaid Amount Reimbursed</th>\n",
              "      <th>Non Medicaid Amount Reimbursed</th>\n",
              "      <th>Quarter Begin</th>\n",
              "      <th>Quarter Begin Date</th>\n",
              "      <th>Latitude</th>\n",
              "      <th>Longitude</th>\n",
              "      <th>Location</th>\n",
              "      <th>NDC</th>\n",
              "      <th>Location_cleaned</th>\n",
              "    </tr>\n",
              "  </thead>\n",
              "  <tbody>\n",
              "    <tr>\n",
              "      <th>0</th>\n",
              "      <td>FFSU</td>\n",
              "      <td>WI</td>\n",
              "      <td>17478</td>\n",
              "      <td>214</td>\n",
              "      <td>20</td>\n",
              "      <td>2010</td>\n",
              "      <td>3</td>\n",
              "      <td>ATROPINE C</td>\n",
              "      <td>NaN</td>\n",
              "      <td>True</td>\n",
              "      <td>NaN</td>\n",
              "      <td>NaN</td>\n",
              "      <td>NaN</td>\n",
              "      <td>NaN</td>\n",
              "      <td>7/1</td>\n",
              "      <td>07/01/2010</td>\n",
              "      <td>37.7680</td>\n",
              "      <td>-78.2057</td>\n",
              "      <td>(37.768, -78.2057)</td>\n",
              "      <td>17478021420</td>\n",
              "      <td>37.768, -78.2057</td>\n",
              "    </tr>\n",
              "    <tr>\n",
              "      <th>1</th>\n",
              "      <td>FFSU</td>\n",
              "      <td>NH</td>\n",
              "      <td>409</td>\n",
              "      <td>1165</td>\n",
              "      <td>2</td>\n",
              "      <td>2010</td>\n",
              "      <td>3</td>\n",
              "      <td>BUPIVACAIN</td>\n",
              "      <td>NaN</td>\n",
              "      <td>True</td>\n",
              "      <td>NaN</td>\n",
              "      <td>NaN</td>\n",
              "      <td>NaN</td>\n",
              "      <td>NaN</td>\n",
              "      <td>7/1</td>\n",
              "      <td>07/01/2010</td>\n",
              "      <td>47.5362</td>\n",
              "      <td>-99.7930</td>\n",
              "      <td>(47.5362, -99.793)</td>\n",
              "      <td>409116502</td>\n",
              "      <td>47.5362, -99.793</td>\n",
              "    </tr>\n",
              "    <tr>\n",
              "      <th>2</th>\n",
              "      <td>FFSU</td>\n",
              "      <td>XX</td>\n",
              "      <td>338</td>\n",
              "      <td>629</td>\n",
              "      <td>4</td>\n",
              "      <td>2010</td>\n",
              "      <td>4</td>\n",
              "      <td>TRAVASOL 1</td>\n",
              "      <td>164627000.0</td>\n",
              "      <td>False</td>\n",
              "      <td>29.0</td>\n",
              "      <td>27541.1</td>\n",
              "      <td>27541.10</td>\n",
              "      <td>0.00</td>\n",
              "      <td>10/1</td>\n",
              "      <td>10/01/2010</td>\n",
              "      <td>NaN</td>\n",
              "      <td>NaN</td>\n",
              "      <td>NaN</td>\n",
              "      <td>338062904</td>\n",
              "      <td>NaN</td>\n",
              "    </tr>\n",
              "    <tr>\n",
              "      <th>3</th>\n",
              "      <td>FFSU</td>\n",
              "      <td>TN</td>\n",
              "      <td>68382</td>\n",
              "      <td>99</td>\n",
              "      <td>6</td>\n",
              "      <td>2010</td>\n",
              "      <td>4</td>\n",
              "      <td>PAROXETINE</td>\n",
              "      <td>11157.5</td>\n",
              "      <td>False</td>\n",
              "      <td>296.0</td>\n",
              "      <td>3131.1</td>\n",
              "      <td>3105.18</td>\n",
              "      <td>25.92</td>\n",
              "      <td>10/1</td>\n",
              "      <td>10/01/2010</td>\n",
              "      <td>41.6772</td>\n",
              "      <td>-71.5101</td>\n",
              "      <td>(41.6772, -71.5101)</td>\n",
              "      <td>68382009906</td>\n",
              "      <td>41.6772, -71.5101</td>\n",
              "    </tr>\n",
              "    <tr>\n",
              "      <th>4</th>\n",
              "      <td>FFSU</td>\n",
              "      <td>WY</td>\n",
              "      <td>472</td>\n",
              "      <td>911</td>\n",
              "      <td>45</td>\n",
              "      <td>2010</td>\n",
              "      <td>4</td>\n",
              "      <td>METRONIDAZ</td>\n",
              "      <td>NaN</td>\n",
              "      <td>True</td>\n",
              "      <td>NaN</td>\n",
              "      <td>NaN</td>\n",
              "      <td>NaN</td>\n",
              "      <td>NaN</td>\n",
              "      <td>10/1</td>\n",
              "      <td>10/01/2010</td>\n",
              "      <td>44.0407</td>\n",
              "      <td>-72.7093</td>\n",
              "      <td>(44.0407, -72.7093)</td>\n",
              "      <td>472091145</td>\n",
              "      <td>44.0407, -72.7093</td>\n",
              "    </tr>\n",
              "  </tbody>\n",
              "</table>\n",
              "</div>"
            ],
            "text/plain": [
              "  Utilization Type State  ...          NDC   Location_cleaned\n",
              "0             FFSU    WI  ...  17478021420   37.768, -78.2057\n",
              "1             FFSU    NH  ...    409116502   47.5362, -99.793\n",
              "2             FFSU    XX  ...    338062904                NaN\n",
              "3             FFSU    TN  ...  68382009906  41.6772, -71.5101\n",
              "4             FFSU    WY  ...    472091145  44.0407, -72.7093\n",
              "\n",
              "[5 rows x 21 columns]"
            ]
          },
          "metadata": {
            "tags": []
          },
          "execution_count": 6
        }
      ]
    },
    {
      "cell_type": "code",
      "metadata": {
        "id": "WG0kmI392uaJ"
      },
      "source": [
        "#def stats(df)\n",
        "  #  mean =drugsutil['Package Size']."
      ],
      "execution_count": null,
      "outputs": []
    },
    {
      "cell_type": "markdown",
      "metadata": {
        "id": "TpFwOQrRAYdo"
      },
      "source": [
        "drugsutil.apply(np.sum, axis=0)"
      ]
    },
    {
      "cell_type": "code",
      "metadata": {
        "id": "DubRYP2hEFCi"
      },
      "source": [
        "#mymean = drugsutil.mean(axis=0, skipna=True, numeric_only=True)\n",
        "#mysym = drugsutil.sum(axis=0, skipna=True, numeric_only=True)\n",
        "#mymode = drugsutil.mode(axis=0, numeric_only=True, dropna=True)\n",
        "#mymedian = drugsutil.median(axis=0, skipna=True, numeric_only=True)\n"
      ],
      "execution_count": null,
      "outputs": []
    },
    {
      "cell_type": "code",
      "metadata": {
        "id": "X2BNWRJ3GUYq"
      },
      "source": [
        "def stats(df):\n",
        "    mymean = df.mean(axis=0, skipna=True, numeric_only=True)\n",
        "    mysum = df.sum(axis=0, skipna=True, numeric_only=True)\n",
        "    mymode = df.mode(axis=0, numeric_only=True, dropna=True)\n",
        "    mymedian = df.median(axis=0, skipna=True, numeric_only=True)\n",
        "    #print (mymean, mysum, mymode, mymedian)\n",
        "    return mymean, mysum, mymode, mymedian\n"
      ],
      "execution_count": null,
      "outputs": []
    },
    {
      "cell_type": "code",
      "metadata": {
        "id": "0p-dpie3HlBz",
        "outputId": "72d2be2a-af62-435b-9ab4-36d3ee62d922",
        "colab": {
          "base_uri": "https://localhost:8080/",
          "height": 424
        }
      },
      "source": [
        "drugsutilSelect=drugsutil[[\"Units Reimbursed\", \"Number of Prescriptions\",\"Total Amount Reimbursed\"]]\n",
        "drugsutilSelect"
      ],
      "execution_count": 16,
      "outputs": [
        {
          "output_type": "execute_result",
          "data": {
            "text/html": [
              "<div>\n",
              "<style scoped>\n",
              "    .dataframe tbody tr th:only-of-type {\n",
              "        vertical-align: middle;\n",
              "    }\n",
              "\n",
              "    .dataframe tbody tr th {\n",
              "        vertical-align: top;\n",
              "    }\n",
              "\n",
              "    .dataframe thead th {\n",
              "        text-align: right;\n",
              "    }\n",
              "</style>\n",
              "<table border=\"1\" class=\"dataframe\">\n",
              "  <thead>\n",
              "    <tr style=\"text-align: right;\">\n",
              "      <th></th>\n",
              "      <th>Units Reimbursed</th>\n",
              "      <th>Number of Prescriptions</th>\n",
              "      <th>Total Amount Reimbursed</th>\n",
              "    </tr>\n",
              "  </thead>\n",
              "  <tbody>\n",
              "    <tr>\n",
              "      <th>0</th>\n",
              "      <td>NaN</td>\n",
              "      <td>NaN</td>\n",
              "      <td>NaN</td>\n",
              "    </tr>\n",
              "    <tr>\n",
              "      <th>1</th>\n",
              "      <td>NaN</td>\n",
              "      <td>NaN</td>\n",
              "      <td>NaN</td>\n",
              "    </tr>\n",
              "    <tr>\n",
              "      <th>2</th>\n",
              "      <td>164627000.0</td>\n",
              "      <td>29.0</td>\n",
              "      <td>27541.1</td>\n",
              "    </tr>\n",
              "    <tr>\n",
              "      <th>3</th>\n",
              "      <td>11157.5</td>\n",
              "      <td>296.0</td>\n",
              "      <td>3131.1</td>\n",
              "    </tr>\n",
              "    <tr>\n",
              "      <th>4</th>\n",
              "      <td>NaN</td>\n",
              "      <td>NaN</td>\n",
              "      <td>NaN</td>\n",
              "    </tr>\n",
              "    <tr>\n",
              "      <th>...</th>\n",
              "      <td>...</td>\n",
              "      <td>...</td>\n",
              "      <td>...</td>\n",
              "    </tr>\n",
              "    <tr>\n",
              "      <th>3124384</th>\n",
              "      <td>NaN</td>\n",
              "      <td>NaN</td>\n",
              "      <td>NaN</td>\n",
              "    </tr>\n",
              "    <tr>\n",
              "      <th>3124385</th>\n",
              "      <td>NaN</td>\n",
              "      <td>NaN</td>\n",
              "      <td>NaN</td>\n",
              "    </tr>\n",
              "    <tr>\n",
              "      <th>3124386</th>\n",
              "      <td>NaN</td>\n",
              "      <td>NaN</td>\n",
              "      <td>NaN</td>\n",
              "    </tr>\n",
              "    <tr>\n",
              "      <th>3124387</th>\n",
              "      <td>NaN</td>\n",
              "      <td>NaN</td>\n",
              "      <td>NaN</td>\n",
              "    </tr>\n",
              "    <tr>\n",
              "      <th>3124388</th>\n",
              "      <td>NaN</td>\n",
              "      <td>NaN</td>\n",
              "      <td>NaN</td>\n",
              "    </tr>\n",
              "  </tbody>\n",
              "</table>\n",
              "<p>3124389 rows × 3 columns</p>\n",
              "</div>"
            ],
            "text/plain": [
              "         Units Reimbursed  Number of Prescriptions  Total Amount Reimbursed\n",
              "0                     NaN                      NaN                      NaN\n",
              "1                     NaN                      NaN                      NaN\n",
              "2             164627000.0                     29.0                  27541.1\n",
              "3                 11157.5                    296.0                   3131.1\n",
              "4                     NaN                      NaN                      NaN\n",
              "...                   ...                      ...                      ...\n",
              "3124384               NaN                      NaN                      NaN\n",
              "3124385               NaN                      NaN                      NaN\n",
              "3124386               NaN                      NaN                      NaN\n",
              "3124387               NaN                      NaN                      NaN\n",
              "3124388               NaN                      NaN                      NaN\n",
              "\n",
              "[3124389 rows x 3 columns]"
            ]
          },
          "metadata": {
            "tags": []
          },
          "execution_count": 16
        }
      ]
    },
    {
      "cell_type": "code",
      "metadata": {
        "id": "jGr1JQaoJLlU"
      },
      "source": [
        "#testing a functions \n",
        "def stats2():\n",
        "    mymean = drugsutilSelect.mean(axis=0, skipna=True, numeric_only=True)\n",
        "    mysum = drugsutilSelect.sum(axis=0, skipna=True, numeric_only=True)\n",
        "    mymode = drugsutilSelect.mode(axis=0, numeric_only=True, dropna=True)\n",
        "    mymedian = drugsutilSelect.median(axis=0, skipna=True, numeric_only=True)\n",
        "    #print (mymean, mysum, mymode, mymedian)\n",
        "    return mymean, mysum, mymode, mymedian"
      ],
      "execution_count": null,
      "outputs": []
    },
    {
      "cell_type": "code",
      "metadata": {
        "id": "az3ZncbjLnT1",
        "outputId": "8f4d803a-5e4b-4f83-c9c1-8613e76d8a7e",
        "colab": {
          "base_uri": "https://localhost:8080/",
          "height": 424
        }
      },
      "source": [
        "#making sure there are no missing values\n",
        "drugsutilSelect.fillna(value=0)"
      ],
      "execution_count": 18,
      "outputs": [
        {
          "output_type": "execute_result",
          "data": {
            "text/html": [
              "<div>\n",
              "<style scoped>\n",
              "    .dataframe tbody tr th:only-of-type {\n",
              "        vertical-align: middle;\n",
              "    }\n",
              "\n",
              "    .dataframe tbody tr th {\n",
              "        vertical-align: top;\n",
              "    }\n",
              "\n",
              "    .dataframe thead th {\n",
              "        text-align: right;\n",
              "    }\n",
              "</style>\n",
              "<table border=\"1\" class=\"dataframe\">\n",
              "  <thead>\n",
              "    <tr style=\"text-align: right;\">\n",
              "      <th></th>\n",
              "      <th>Units Reimbursed</th>\n",
              "      <th>Number of Prescriptions</th>\n",
              "      <th>Total Amount Reimbursed</th>\n",
              "    </tr>\n",
              "  </thead>\n",
              "  <tbody>\n",
              "    <tr>\n",
              "      <th>0</th>\n",
              "      <td>0.0</td>\n",
              "      <td>0.0</td>\n",
              "      <td>0.0</td>\n",
              "    </tr>\n",
              "    <tr>\n",
              "      <th>1</th>\n",
              "      <td>0.0</td>\n",
              "      <td>0.0</td>\n",
              "      <td>0.0</td>\n",
              "    </tr>\n",
              "    <tr>\n",
              "      <th>2</th>\n",
              "      <td>164627000.0</td>\n",
              "      <td>29.0</td>\n",
              "      <td>27541.1</td>\n",
              "    </tr>\n",
              "    <tr>\n",
              "      <th>3</th>\n",
              "      <td>11157.5</td>\n",
              "      <td>296.0</td>\n",
              "      <td>3131.1</td>\n",
              "    </tr>\n",
              "    <tr>\n",
              "      <th>4</th>\n",
              "      <td>0.0</td>\n",
              "      <td>0.0</td>\n",
              "      <td>0.0</td>\n",
              "    </tr>\n",
              "    <tr>\n",
              "      <th>...</th>\n",
              "      <td>...</td>\n",
              "      <td>...</td>\n",
              "      <td>...</td>\n",
              "    </tr>\n",
              "    <tr>\n",
              "      <th>3124384</th>\n",
              "      <td>0.0</td>\n",
              "      <td>0.0</td>\n",
              "      <td>0.0</td>\n",
              "    </tr>\n",
              "    <tr>\n",
              "      <th>3124385</th>\n",
              "      <td>0.0</td>\n",
              "      <td>0.0</td>\n",
              "      <td>0.0</td>\n",
              "    </tr>\n",
              "    <tr>\n",
              "      <th>3124386</th>\n",
              "      <td>0.0</td>\n",
              "      <td>0.0</td>\n",
              "      <td>0.0</td>\n",
              "    </tr>\n",
              "    <tr>\n",
              "      <th>3124387</th>\n",
              "      <td>0.0</td>\n",
              "      <td>0.0</td>\n",
              "      <td>0.0</td>\n",
              "    </tr>\n",
              "    <tr>\n",
              "      <th>3124388</th>\n",
              "      <td>0.0</td>\n",
              "      <td>0.0</td>\n",
              "      <td>0.0</td>\n",
              "    </tr>\n",
              "  </tbody>\n",
              "</table>\n",
              "<p>3124389 rows × 3 columns</p>\n",
              "</div>"
            ],
            "text/plain": [
              "         Units Reimbursed  Number of Prescriptions  Total Amount Reimbursed\n",
              "0                     0.0                      0.0                      0.0\n",
              "1                     0.0                      0.0                      0.0\n",
              "2             164627000.0                     29.0                  27541.1\n",
              "3                 11157.5                    296.0                   3131.1\n",
              "4                     0.0                      0.0                      0.0\n",
              "...                   ...                      ...                      ...\n",
              "3124384               0.0                      0.0                      0.0\n",
              "3124385               0.0                      0.0                      0.0\n",
              "3124386               0.0                      0.0                      0.0\n",
              "3124387               0.0                      0.0                      0.0\n",
              "3124388               0.0                      0.0                      0.0\n",
              "\n",
              "[3124389 rows x 3 columns]"
            ]
          },
          "metadata": {
            "tags": []
          },
          "execution_count": 18
        }
      ]
    },
    {
      "cell_type": "code",
      "metadata": {
        "id": "mU-YVC5BOK85"
      },
      "source": [
        "def mean (x):\n",
        "   mymean = drugsutilSelect.mean(axis=0, skipna=True, numeric_only=True)\n",
        "   return mymean\n",
        "\n",
        "def sums (x) :\n",
        "   mysum = drugsutilSelect.sum(axis=0, skipna=True, numeric_only=True)\n",
        "   return mysum\n",
        "def modes (x) : \n",
        "   #drugsutilSelect.set_index()\n",
        "   mymode = drugsutilSelect[\"Units Reimbursed\"].mode()\n",
        "   mymode2 = drugsutilSelect[\"Number of Prescriptions\"].mode()\n",
        "   mymode3 = drugsutilSelect[\"Total Amount Reimbursed\"].mode()\n",
        "   return [mymode, mymode2, mymode3]\n",
        "def median (x):\n",
        "   mymedian = drugsutilSelect.median(axis=0, skipna=True, numeric_only=True)\n",
        "   return mymedian\n",
        "   \n",
        "   "
      ],
      "execution_count": 109,
      "outputs": []
    },
    {
      "cell_type": "code",
      "metadata": {
        "id": "eJWPfr1vX1xq"
      },
      "source": [
        "def ranges (x):\n",
        "   #drugsutilSelect[\"Units Reimbursed\"].max()-drugsutilSelect[\"Units Reimbursed\"].min()\n",
        "   y = drugsutilSelect.describe().max()\n",
        "   #z = drugsutilSelect.describe().max()\n",
        "  \n",
        "   print (y)\n",
        "\n",
        "#finding a range has been challanging in this data and getting the output properly. The describe function has \n",
        "#min and max - and that shows the range of values for each column.\n",
        "\n"
      ],
      "execution_count": 144,
      "outputs": []
    },
    {
      "cell_type": "code",
      "metadata": {
        "id": "bR1FaJRj-KDL",
        "outputId": "dc477861-02bd-48a4-a2aa-d968960a5417",
        "colab": {
          "base_uri": "https://localhost:8080/",
          "height": 144
        }
      },
      "source": [
        "drugsutilSelect.apply(mean, axis=0)\n"
      ],
      "execution_count": 61,
      "outputs": [
        {
          "output_type": "execute_result",
          "data": {
            "text/html": [
              "<div>\n",
              "<style scoped>\n",
              "    .dataframe tbody tr th:only-of-type {\n",
              "        vertical-align: middle;\n",
              "    }\n",
              "\n",
              "    .dataframe tbody tr th {\n",
              "        vertical-align: top;\n",
              "    }\n",
              "\n",
              "    .dataframe thead th {\n",
              "        text-align: right;\n",
              "    }\n",
              "</style>\n",
              "<table border=\"1\" class=\"dataframe\">\n",
              "  <thead>\n",
              "    <tr style=\"text-align: right;\">\n",
              "      <th></th>\n",
              "      <th>Units Reimbursed</th>\n",
              "      <th>Number of Prescriptions</th>\n",
              "      <th>Total Amount Reimbursed</th>\n",
              "    </tr>\n",
              "  </thead>\n",
              "  <tbody>\n",
              "    <tr>\n",
              "      <th>Units Reimbursed</th>\n",
              "      <td>39630.539370</td>\n",
              "      <td>39630.539370</td>\n",
              "      <td>39630.539370</td>\n",
              "    </tr>\n",
              "    <tr>\n",
              "      <th>Number of Prescriptions</th>\n",
              "      <td>623.132629</td>\n",
              "      <td>623.132629</td>\n",
              "      <td>623.132629</td>\n",
              "    </tr>\n",
              "    <tr>\n",
              "      <th>Total Amount Reimbursed</th>\n",
              "      <td>43993.347379</td>\n",
              "      <td>43993.347379</td>\n",
              "      <td>43993.347379</td>\n",
              "    </tr>\n",
              "  </tbody>\n",
              "</table>\n",
              "</div>"
            ],
            "text/plain": [
              "                         Units Reimbursed  ...  Total Amount Reimbursed\n",
              "Units Reimbursed             39630.539370  ...             39630.539370\n",
              "Number of Prescriptions        623.132629  ...               623.132629\n",
              "Total Amount Reimbursed      43993.347379  ...             43993.347379\n",
              "\n",
              "[3 rows x 3 columns]"
            ]
          },
          "metadata": {
            "tags": []
          },
          "execution_count": 61
        }
      ]
    },
    {
      "cell_type": "code",
      "metadata": {
        "id": "6VqKe5f9Hhrw",
        "outputId": "72d43afa-66a5-4ee7-dc68-4eafa0b05f8a",
        "colab": {
          "base_uri": "https://localhost:8080/",
          "height": 144
        }
      },
      "source": [
        "drugsutilSelect.apply(sums, axis=0)"
      ],
      "execution_count": 89,
      "outputs": [
        {
          "output_type": "execute_result",
          "data": {
            "text/html": [
              "<div>\n",
              "<style scoped>\n",
              "    .dataframe tbody tr th:only-of-type {\n",
              "        vertical-align: middle;\n",
              "    }\n",
              "\n",
              "    .dataframe tbody tr th {\n",
              "        vertical-align: top;\n",
              "    }\n",
              "\n",
              "    .dataframe thead th {\n",
              "        text-align: right;\n",
              "    }\n",
              "</style>\n",
              "<table border=\"1\" class=\"dataframe\">\n",
              "  <thead>\n",
              "    <tr style=\"text-align: right;\">\n",
              "      <th></th>\n",
              "      <th>Units Reimbursed</th>\n",
              "      <th>Number of Prescriptions</th>\n",
              "      <th>Total Amount Reimbursed</th>\n",
              "    </tr>\n",
              "  </thead>\n",
              "  <tbody>\n",
              "    <tr>\n",
              "      <th>Units Reimbursed</th>\n",
              "      <td>6.091448e+10</td>\n",
              "      <td>6.091448e+10</td>\n",
              "      <td>6.091448e+10</td>\n",
              "    </tr>\n",
              "    <tr>\n",
              "      <th>Number of Prescriptions</th>\n",
              "      <td>9.577916e+08</td>\n",
              "      <td>9.577916e+08</td>\n",
              "      <td>9.577916e+08</td>\n",
              "    </tr>\n",
              "    <tr>\n",
              "      <th>Total Amount Reimbursed</th>\n",
              "      <td>6.762037e+10</td>\n",
              "      <td>6.762037e+10</td>\n",
              "      <td>6.762037e+10</td>\n",
              "    </tr>\n",
              "  </tbody>\n",
              "</table>\n",
              "</div>"
            ],
            "text/plain": [
              "                         Units Reimbursed  ...  Total Amount Reimbursed\n",
              "Units Reimbursed             6.091448e+10  ...             6.091448e+10\n",
              "Number of Prescriptions      9.577916e+08  ...             9.577916e+08\n",
              "Total Amount Reimbursed      6.762037e+10  ...             6.762037e+10\n",
              "\n",
              "[3 rows x 3 columns]"
            ]
          },
          "metadata": {
            "tags": []
          },
          "execution_count": 89
        }
      ]
    },
    {
      "cell_type": "code",
      "metadata": {
        "id": "34S6ursAHhRH",
        "outputId": "cbb694d4-67cc-4b7f-f52b-a73eecd50b47",
        "colab": {
          "base_uri": "https://localhost:8080/",
          "height": 144
        }
      },
      "source": [
        "\n",
        "drugsutilSelect.apply(modes, axis=0)"
      ],
      "execution_count": 88,
      "outputs": [
        {
          "output_type": "execute_result",
          "data": {
            "text/html": [
              "<div>\n",
              "<style scoped>\n",
              "    .dataframe tbody tr th:only-of-type {\n",
              "        vertical-align: middle;\n",
              "    }\n",
              "\n",
              "    .dataframe tbody tr th {\n",
              "        vertical-align: top;\n",
              "    }\n",
              "\n",
              "    .dataframe thead th {\n",
              "        text-align: right;\n",
              "    }\n",
              "</style>\n",
              "<table border=\"1\" class=\"dataframe\">\n",
              "  <thead>\n",
              "    <tr style=\"text-align: right;\">\n",
              "      <th></th>\n",
              "      <th>Units Reimbursed</th>\n",
              "      <th>Number of Prescriptions</th>\n",
              "      <th>Total Amount Reimbursed</th>\n",
              "    </tr>\n",
              "  </thead>\n",
              "  <tbody>\n",
              "    <tr>\n",
              "      <th>0</th>\n",
              "      <td>0    720.0\n",
              "dtype: float64</td>\n",
              "      <td>0    720.0\n",
              "dtype: float64</td>\n",
              "      <td>0    720.0\n",
              "dtype: float64</td>\n",
              "    </tr>\n",
              "    <tr>\n",
              "      <th>1</th>\n",
              "      <td>0    15.0\n",
              "dtype: float64</td>\n",
              "      <td>0    15.0\n",
              "dtype: float64</td>\n",
              "      <td>0    15.0\n",
              "dtype: float64</td>\n",
              "    </tr>\n",
              "    <tr>\n",
              "      <th>2</th>\n",
              "      <td>0    0.01\n",
              "dtype: float64</td>\n",
              "      <td>0    0.01\n",
              "dtype: float64</td>\n",
              "      <td>0    0.01\n",
              "dtype: float64</td>\n",
              "    </tr>\n",
              "  </tbody>\n",
              "</table>\n",
              "</div>"
            ],
            "text/plain": [
              "            Units Reimbursed  ...    Total Amount Reimbursed\n",
              "0  0    720.0\n",
              "dtype: float64  ...  0    720.0\n",
              "dtype: float64\n",
              "1   0    15.0\n",
              "dtype: float64  ...   0    15.0\n",
              "dtype: float64\n",
              "2   0    0.01\n",
              "dtype: float64  ...   0    0.01\n",
              "dtype: float64\n",
              "\n",
              "[3 rows x 3 columns]"
            ]
          },
          "metadata": {
            "tags": []
          },
          "execution_count": 88
        }
      ]
    },
    {
      "cell_type": "code",
      "metadata": {
        "id": "-Ih_y0OLI1Hg",
        "outputId": "775ee80e-e423-496c-8b96-276db0225b85",
        "colab": {
          "base_uri": "https://localhost:8080/",
          "height": 144
        }
      },
      "source": [
        "drugsutilSelect.apply(median, axis=0)"
      ],
      "execution_count": 66,
      "outputs": [
        {
          "output_type": "execute_result",
          "data": {
            "text/html": [
              "<div>\n",
              "<style scoped>\n",
              "    .dataframe tbody tr th:only-of-type {\n",
              "        vertical-align: middle;\n",
              "    }\n",
              "\n",
              "    .dataframe tbody tr th {\n",
              "        vertical-align: top;\n",
              "    }\n",
              "\n",
              "    .dataframe thead th {\n",
              "        text-align: right;\n",
              "    }\n",
              "</style>\n",
              "<table border=\"1\" class=\"dataframe\">\n",
              "  <thead>\n",
              "    <tr style=\"text-align: right;\">\n",
              "      <th></th>\n",
              "      <th>Units Reimbursed</th>\n",
              "      <th>Number of Prescriptions</th>\n",
              "      <th>Total Amount Reimbursed</th>\n",
              "    </tr>\n",
              "  </thead>\n",
              "  <tbody>\n",
              "    <tr>\n",
              "      <th>Units Reimbursed</th>\n",
              "      <td>3230.00</td>\n",
              "      <td>3230.00</td>\n",
              "      <td>3230.00</td>\n",
              "    </tr>\n",
              "    <tr>\n",
              "      <th>Number of Prescriptions</th>\n",
              "      <td>71.00</td>\n",
              "      <td>71.00</td>\n",
              "      <td>71.00</td>\n",
              "    </tr>\n",
              "    <tr>\n",
              "      <th>Total Amount Reimbursed</th>\n",
              "      <td>1692.63</td>\n",
              "      <td>1692.63</td>\n",
              "      <td>1692.63</td>\n",
              "    </tr>\n",
              "  </tbody>\n",
              "</table>\n",
              "</div>"
            ],
            "text/plain": [
              "                         Units Reimbursed  ...  Total Amount Reimbursed\n",
              "Units Reimbursed                  3230.00  ...                  3230.00\n",
              "Number of Prescriptions             71.00  ...                    71.00\n",
              "Total Amount Reimbursed           1692.63  ...                  1692.63\n",
              "\n",
              "[3 rows x 3 columns]"
            ]
          },
          "metadata": {
            "tags": []
          },
          "execution_count": 66
        }
      ]
    },
    {
      "cell_type": "code",
      "metadata": {
        "id": "K47ieVeFPrwg",
        "outputId": "6597a522-c362-4c44-dbab-9b5dc6260324",
        "colab": {
          "base_uri": "https://localhost:8080/",
          "height": 301
        }
      },
      "source": [
        "drugsutilSelect.describe()"
      ],
      "execution_count": 102,
      "outputs": [
        {
          "output_type": "execute_result",
          "data": {
            "text/html": [
              "<div>\n",
              "<style scoped>\n",
              "    .dataframe tbody tr th:only-of-type {\n",
              "        vertical-align: middle;\n",
              "    }\n",
              "\n",
              "    .dataframe tbody tr th {\n",
              "        vertical-align: top;\n",
              "    }\n",
              "\n",
              "    .dataframe thead th {\n",
              "        text-align: right;\n",
              "    }\n",
              "</style>\n",
              "<table border=\"1\" class=\"dataframe\">\n",
              "  <thead>\n",
              "    <tr style=\"text-align: right;\">\n",
              "      <th></th>\n",
              "      <th>Units Reimbursed</th>\n",
              "      <th>Number of Prescriptions</th>\n",
              "      <th>Total Amount Reimbursed</th>\n",
              "    </tr>\n",
              "  </thead>\n",
              "  <tbody>\n",
              "    <tr>\n",
              "      <th>count</th>\n",
              "      <td>1.537059e+06</td>\n",
              "      <td>1.537059e+06</td>\n",
              "      <td>1.537059e+06</td>\n",
              "    </tr>\n",
              "    <tr>\n",
              "      <th>mean</th>\n",
              "      <td>3.963054e+04</td>\n",
              "      <td>6.231326e+02</td>\n",
              "      <td>4.399335e+04</td>\n",
              "    </tr>\n",
              "    <tr>\n",
              "      <th>std</th>\n",
              "      <td>4.696817e+05</td>\n",
              "      <td>5.206322e+03</td>\n",
              "      <td>6.649862e+05</td>\n",
              "    </tr>\n",
              "    <tr>\n",
              "      <th>min</th>\n",
              "      <td>0.000000e+00</td>\n",
              "      <td>1.100000e+01</td>\n",
              "      <td>0.000000e+00</td>\n",
              "    </tr>\n",
              "    <tr>\n",
              "      <th>25%</th>\n",
              "      <td>1.102000e+03</td>\n",
              "      <td>2.900000e+01</td>\n",
              "      <td>4.763500e+02</td>\n",
              "    </tr>\n",
              "    <tr>\n",
              "      <th>50%</th>\n",
              "      <td>3.230000e+03</td>\n",
              "      <td>7.100000e+01</td>\n",
              "      <td>1.692630e+03</td>\n",
              "    </tr>\n",
              "    <tr>\n",
              "      <th>75%</th>\n",
              "      <td>1.200300e+04</td>\n",
              "      <td>2.390000e+02</td>\n",
              "      <td>7.574050e+03</td>\n",
              "    </tr>\n",
              "    <tr>\n",
              "      <th>max</th>\n",
              "      <td>1.646270e+08</td>\n",
              "      <td>8.942530e+05</td>\n",
              "      <td>1.484406e+08</td>\n",
              "    </tr>\n",
              "  </tbody>\n",
              "</table>\n",
              "</div>"
            ],
            "text/plain": [
              "       Units Reimbursed  Number of Prescriptions  Total Amount Reimbursed\n",
              "count      1.537059e+06             1.537059e+06             1.537059e+06\n",
              "mean       3.963054e+04             6.231326e+02             4.399335e+04\n",
              "std        4.696817e+05             5.206322e+03             6.649862e+05\n",
              "min        0.000000e+00             1.100000e+01             0.000000e+00\n",
              "25%        1.102000e+03             2.900000e+01             4.763500e+02\n",
              "50%        3.230000e+03             7.100000e+01             1.692630e+03\n",
              "75%        1.200300e+04             2.390000e+02             7.574050e+03\n",
              "max        1.646270e+08             8.942530e+05             1.484406e+08"
            ]
          },
          "metadata": {
            "tags": []
          },
          "execution_count": 102
        }
      ]
    },
    {
      "cell_type": "code",
      "metadata": {
        "id": "t75pX9REQs65",
        "outputId": "b131dd26-af32-4529-9501-4c40549724f3",
        "colab": {
          "base_uri": "https://localhost:8080/"
        }
      },
      "source": [
        "drugsutilSelect.apply(ranges, axis=0)\n",
        "# min and max of each column "
      ],
      "execution_count": 143,
      "outputs": [
        {
          "output_type": "stream",
          "text": [
            "Units Reimbursed            0.0\n",
            "Number of Prescriptions    11.0\n",
            "Total Amount Reimbursed     0.0\n",
            "dtype: float64\n",
            "Units Reimbursed            0.0\n",
            "Number of Prescriptions    11.0\n",
            "Total Amount Reimbursed     0.0\n",
            "dtype: float64\n",
            "Units Reimbursed            0.0\n",
            "Number of Prescriptions    11.0\n",
            "Total Amount Reimbursed     0.0\n",
            "dtype: float64\n"
          ],
          "name": "stdout"
        },
        {
          "output_type": "execute_result",
          "data": {
            "text/plain": [
              "Units Reimbursed           None\n",
              "Number of Prescriptions    None\n",
              "Total Amount Reimbursed    None\n",
              "dtype: object"
            ]
          },
          "metadata": {
            "tags": []
          },
          "execution_count": 143
        }
      ]
    }
  ]
}