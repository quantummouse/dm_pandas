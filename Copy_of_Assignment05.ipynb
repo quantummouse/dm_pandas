{
  "nbformat": 4,
  "nbformat_minor": 0,
  "metadata": {
    "colab": {
      "name": "Copy of Assignment05.ipynb",
      "provenance": [],
      "collapsed_sections": [],
      "toc_visible": true,
      "include_colab_link": true
    },
    "kernelspec": {
      "name": "python3",
      "display_name": "Python 3"
    }
  },
  "cells": [
    {
      "cell_type": "markdown",
      "metadata": {
        "id": "view-in-github",
        "colab_type": "text"
      },
      "source": [
        "<a href=\"https://colab.research.google.com/github/quantummouse/dm_pandas/blob/master/Copy_of_Assignment05.ipynb\" target=\"_parent\"><img src=\"https://colab.research.google.com/assets/colab-badge.svg\" alt=\"Open In Colab\"/></a>"
      ]
    },
    {
      "cell_type": "markdown",
      "metadata": {
        "id": "PVPwSURJLrm5"
      },
      "source": [
        "# Assignment for Week 5      \n",
        "(Chapter 6 & 7)\n",
        "Alexandria Kalika"
      ]
    },
    {
      "cell_type": "markdown",
      "metadata": {
        "id": "rzBeh3W4MEzh"
      },
      "source": [
        "## Action Items:      \n",
        "•\tConvert data\n",
        "1. Work on your selected data set and covert a column of non-categorical type into a categorical type. \n",
        "2. Convert another column into a string type. \n",
        "3. Post your work on GitHub\n",
        "4. Add a README file\n"
      ]
    },
    {
      "cell_type": "code",
      "metadata": {
        "id": "jnFZTNBo-R45",
        "outputId": "2685e5a5-c75f-4250-b921-07270d2ca35b",
        "colab": {
          "base_uri": "https://localhost:8080/"
        }
      },
      "source": [
        "from google.colab import drive\n",
        "drive.mount('/content/drive')"
      ],
      "execution_count": 1,
      "outputs": [
        {
          "output_type": "stream",
          "text": [
            "Mounted at /content/drive\n"
          ],
          "name": "stdout"
        }
      ]
    },
    {
      "cell_type": "code",
      "metadata": {
        "id": "IVaj3fq9ACqj",
        "outputId": "8fc0e750-f385-466e-f8c6-cc9dc1c4aecd",
        "colab": {
          "base_uri": "https://localhost:8080/",
          "height": 385
        }
      },
      "source": [
        "import pandas as pd\n",
        "data = pd.read_csv('/content/drive/My Drive/Colab Notebooks/State_Drug_Utilization_Data_2010.csv')\n",
        "data.head(5)"
      ],
      "execution_count": 23,
      "outputs": [
        {
          "output_type": "stream",
          "text": [
            "/usr/local/lib/python3.6/dist-packages/IPython/core/interactiveshell.py:2718: DtypeWarning: Columns (4,19) have mixed types.Specify dtype option on import or set low_memory=False.\n",
            "  interactivity=interactivity, compiler=compiler, result=result)\n"
          ],
          "name": "stderr"
        },
        {
          "output_type": "execute_result",
          "data": {
            "text/html": [
              "<div>\n",
              "<style scoped>\n",
              "    .dataframe tbody tr th:only-of-type {\n",
              "        vertical-align: middle;\n",
              "    }\n",
              "\n",
              "    .dataframe tbody tr th {\n",
              "        vertical-align: top;\n",
              "    }\n",
              "\n",
              "    .dataframe thead th {\n",
              "        text-align: right;\n",
              "    }\n",
              "</style>\n",
              "<table border=\"1\" class=\"dataframe\">\n",
              "  <thead>\n",
              "    <tr style=\"text-align: right;\">\n",
              "      <th></th>\n",
              "      <th>Utilization Type</th>\n",
              "      <th>State</th>\n",
              "      <th>Labeler Code</th>\n",
              "      <th>Product Code</th>\n",
              "      <th>Package Size</th>\n",
              "      <th>Year</th>\n",
              "      <th>Quarter</th>\n",
              "      <th>Product Name</th>\n",
              "      <th>Units Reimbursed</th>\n",
              "      <th>Suppression Used</th>\n",
              "      <th>Number of Prescriptions</th>\n",
              "      <th>Total Amount Reimbursed</th>\n",
              "      <th>Medicaid Amount Reimbursed</th>\n",
              "      <th>Non Medicaid Amount Reimbursed</th>\n",
              "      <th>Quarter Begin</th>\n",
              "      <th>Quarter Begin Date</th>\n",
              "      <th>Latitude</th>\n",
              "      <th>Longitude</th>\n",
              "      <th>Location</th>\n",
              "      <th>NDC</th>\n",
              "    </tr>\n",
              "  </thead>\n",
              "  <tbody>\n",
              "    <tr>\n",
              "      <th>0</th>\n",
              "      <td>FFSU</td>\n",
              "      <td>WI</td>\n",
              "      <td>17478</td>\n",
              "      <td>214</td>\n",
              "      <td>20</td>\n",
              "      <td>2010</td>\n",
              "      <td>3</td>\n",
              "      <td>ATROPINE C</td>\n",
              "      <td>NaN</td>\n",
              "      <td>True</td>\n",
              "      <td>NaN</td>\n",
              "      <td>NaN</td>\n",
              "      <td>NaN</td>\n",
              "      <td>NaN</td>\n",
              "      <td>7/1</td>\n",
              "      <td>07/01/2010</td>\n",
              "      <td>37.7680</td>\n",
              "      <td>-78.2057</td>\n",
              "      <td>(37.768, -78.2057)</td>\n",
              "      <td>17478021420</td>\n",
              "    </tr>\n",
              "    <tr>\n",
              "      <th>1</th>\n",
              "      <td>FFSU</td>\n",
              "      <td>NH</td>\n",
              "      <td>409</td>\n",
              "      <td>1165</td>\n",
              "      <td>2</td>\n",
              "      <td>2010</td>\n",
              "      <td>3</td>\n",
              "      <td>BUPIVACAIN</td>\n",
              "      <td>NaN</td>\n",
              "      <td>True</td>\n",
              "      <td>NaN</td>\n",
              "      <td>NaN</td>\n",
              "      <td>NaN</td>\n",
              "      <td>NaN</td>\n",
              "      <td>7/1</td>\n",
              "      <td>07/01/2010</td>\n",
              "      <td>47.5362</td>\n",
              "      <td>-99.7930</td>\n",
              "      <td>(47.5362, -99.793)</td>\n",
              "      <td>409116502</td>\n",
              "    </tr>\n",
              "    <tr>\n",
              "      <th>2</th>\n",
              "      <td>FFSU</td>\n",
              "      <td>XX</td>\n",
              "      <td>338</td>\n",
              "      <td>629</td>\n",
              "      <td>4</td>\n",
              "      <td>2010</td>\n",
              "      <td>4</td>\n",
              "      <td>TRAVASOL 1</td>\n",
              "      <td>164627000.0</td>\n",
              "      <td>False</td>\n",
              "      <td>29.0</td>\n",
              "      <td>27541.1</td>\n",
              "      <td>27541.10</td>\n",
              "      <td>0.00</td>\n",
              "      <td>10/1</td>\n",
              "      <td>10/01/2010</td>\n",
              "      <td>NaN</td>\n",
              "      <td>NaN</td>\n",
              "      <td>NaN</td>\n",
              "      <td>338062904</td>\n",
              "    </tr>\n",
              "    <tr>\n",
              "      <th>3</th>\n",
              "      <td>FFSU</td>\n",
              "      <td>TN</td>\n",
              "      <td>68382</td>\n",
              "      <td>99</td>\n",
              "      <td>6</td>\n",
              "      <td>2010</td>\n",
              "      <td>4</td>\n",
              "      <td>PAROXETINE</td>\n",
              "      <td>11157.5</td>\n",
              "      <td>False</td>\n",
              "      <td>296.0</td>\n",
              "      <td>3131.1</td>\n",
              "      <td>3105.18</td>\n",
              "      <td>25.92</td>\n",
              "      <td>10/1</td>\n",
              "      <td>10/01/2010</td>\n",
              "      <td>41.6772</td>\n",
              "      <td>-71.5101</td>\n",
              "      <td>(41.6772, -71.5101)</td>\n",
              "      <td>68382009906</td>\n",
              "    </tr>\n",
              "    <tr>\n",
              "      <th>4</th>\n",
              "      <td>FFSU</td>\n",
              "      <td>WY</td>\n",
              "      <td>472</td>\n",
              "      <td>911</td>\n",
              "      <td>45</td>\n",
              "      <td>2010</td>\n",
              "      <td>4</td>\n",
              "      <td>METRONIDAZ</td>\n",
              "      <td>NaN</td>\n",
              "      <td>True</td>\n",
              "      <td>NaN</td>\n",
              "      <td>NaN</td>\n",
              "      <td>NaN</td>\n",
              "      <td>NaN</td>\n",
              "      <td>10/1</td>\n",
              "      <td>10/01/2010</td>\n",
              "      <td>44.0407</td>\n",
              "      <td>-72.7093</td>\n",
              "      <td>(44.0407, -72.7093)</td>\n",
              "      <td>472091145</td>\n",
              "    </tr>\n",
              "  </tbody>\n",
              "</table>\n",
              "</div>"
            ],
            "text/plain": [
              "  Utilization Type State  ...             Location          NDC\n",
              "0             FFSU    WI  ...   (37.768, -78.2057)  17478021420\n",
              "1             FFSU    NH  ...   (47.5362, -99.793)    409116502\n",
              "2             FFSU    XX  ...                  NaN    338062904\n",
              "3             FFSU    TN  ...  (41.6772, -71.5101)  68382009906\n",
              "4             FFSU    WY  ...  (44.0407, -72.7093)    472091145\n",
              "\n",
              "[5 rows x 20 columns]"
            ]
          },
          "metadata": {
            "tags": []
          },
          "execution_count": 23
        }
      ]
    },
    {
      "cell_type": "code",
      "metadata": {
        "id": "dBsPzpNJB-KS",
        "outputId": "6dda3bcb-160e-49ca-8306-d6f3e47654b1",
        "colab": {
          "base_uri": "https://localhost:8080/"
        }
      },
      "source": [
        "data.dtypes"
      ],
      "execution_count": 3,
      "outputs": [
        {
          "output_type": "execute_result",
          "data": {
            "text/plain": [
              "Utilization Type                   object\n",
              "State                              object\n",
              "Labeler Code                        int64\n",
              "Product Code                        int64\n",
              "Package Size                       object\n",
              "Year                                int64\n",
              "Quarter                             int64\n",
              "Product Name                       object\n",
              "Units Reimbursed                  float64\n",
              "Suppression Used                     bool\n",
              "Number of Prescriptions           float64\n",
              "Total Amount Reimbursed           float64\n",
              "Medicaid Amount Reimbursed        float64\n",
              "Non Medicaid Amount Reimbursed    float64\n",
              "Quarter Begin                      object\n",
              "Quarter Begin Date                 object\n",
              "Latitude                          float64\n",
              "Longitude                         float64\n",
              "Location                           object\n",
              "NDC                                object\n",
              "dtype: object"
            ]
          },
          "metadata": {
            "tags": []
          },
          "execution_count": 3
        }
      ]
    },
    {
      "cell_type": "code",
      "metadata": {
        "id": "hxilW0tMCzt9",
        "outputId": "be646c2a-08a1-40e1-b853-d22a1a750685",
        "colab": {
          "base_uri": "https://localhost:8080/"
        }
      },
      "source": [
        "data[['State']].dtypes\n"
      ],
      "execution_count": 12,
      "outputs": [
        {
          "output_type": "execute_result",
          "data": {
            "text/plain": [
              "State    object\n",
              "dtype: object"
            ]
          },
          "metadata": {
            "tags": []
          },
          "execution_count": 12
        }
      ]
    },
    {
      "cell_type": "code",
      "metadata": {
        "id": "JkYkwM9AKgk6",
        "outputId": "12fc524a-7136-4e1e-a9a8-dbf0bf6a69d7",
        "colab": {
          "base_uri": "https://localhost:8080/"
        }
      },
      "source": [
        "data['State'] = data.State.astype('category')\n",
        "data[['State']].dtypes"
      ],
      "execution_count": 15,
      "outputs": [
        {
          "output_type": "execute_result",
          "data": {
            "text/plain": [
              "State    category\n",
              "dtype: object"
            ]
          },
          "metadata": {
            "tags": []
          },
          "execution_count": 15
        }
      ]
    },
    {
      "cell_type": "code",
      "metadata": {
        "id": "YuMQ-DNHKzfn",
        "outputId": "271c4f5e-e71a-45ad-ce75-149e614423a6",
        "colab": {
          "base_uri": "https://localhost:8080/"
        }
      },
      "source": [
        "data.dtypes"
      ],
      "execution_count": 16,
      "outputs": [
        {
          "output_type": "execute_result",
          "data": {
            "text/plain": [
              "Utilization Type                    object\n",
              "State                             category\n",
              "Labeler Code                         int64\n",
              "Product Code                         int64\n",
              "Package Size                        object\n",
              "Year                                 int64\n",
              "Quarter                              int64\n",
              "Product Name                        object\n",
              "Units Reimbursed                   float64\n",
              "Suppression Used                      bool\n",
              "Number of Prescriptions            float64\n",
              "Total Amount Reimbursed            float64\n",
              "Medicaid Amount Reimbursed         float64\n",
              "Non Medicaid Amount Reimbursed     float64\n",
              "Quarter Begin                       object\n",
              "Quarter Begin Date                  object\n",
              "Latitude                           float64\n",
              "Longitude                          float64\n",
              "Location                            object\n",
              "NDC                                 object\n",
              "dtype: object"
            ]
          },
          "metadata": {
            "tags": []
          },
          "execution_count": 16
        }
      ]
    },
    {
      "cell_type": "code",
      "metadata": {
        "id": "P6BrwTCtK4LP",
        "outputId": "86a3e8e8-0666-46cc-84c9-5998bad69da4",
        "colab": {
          "base_uri": "https://localhost:8080/"
        }
      },
      "source": [
        "data['Labeler Code'] = data['Labeler Code'].astype(str)\n",
        "data[['Labeler Code']].dtypes"
      ],
      "execution_count": 21,
      "outputs": [
        {
          "output_type": "execute_result",
          "data": {
            "text/plain": [
              "Labeler Code    object\n",
              "dtype: object"
            ]
          },
          "metadata": {
            "tags": []
          },
          "execution_count": 21
        }
      ]
    },
    {
      "cell_type": "code",
      "metadata": {
        "id": "aC4YOmFeLzKi",
        "outputId": "23c8d39a-ecec-444f-d761-20e81793f349",
        "colab": {
          "base_uri": "https://localhost:8080/"
        }
      },
      "source": [
        "data.dtypes"
      ],
      "execution_count": 22,
      "outputs": [
        {
          "output_type": "execute_result",
          "data": {
            "text/plain": [
              "Utilization Type                    object\n",
              "State                             category\n",
              "Labeler Code                        object\n",
              "Product Code                         int64\n",
              "Package Size                        object\n",
              "Year                                 int64\n",
              "Quarter                              int64\n",
              "Product Name                        object\n",
              "Units Reimbursed                   float64\n",
              "Suppression Used                      bool\n",
              "Number of Prescriptions            float64\n",
              "Total Amount Reimbursed            float64\n",
              "Medicaid Amount Reimbursed         float64\n",
              "Non Medicaid Amount Reimbursed     float64\n",
              "Quarter Begin                       object\n",
              "Quarter Begin Date                  object\n",
              "Latitude                           float64\n",
              "Longitude                          float64\n",
              "Location                            object\n",
              "NDC                                 object\n",
              "dtype: object"
            ]
          },
          "metadata": {
            "tags": []
          },
          "execution_count": 22
        }
      ]
    }
  ]
}