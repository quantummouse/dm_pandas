{
  "nbformat": 4,
  "nbformat_minor": 0,
  "metadata": {
    "colab": {
      "name": "Data612_1.ipynb",
      "provenance": [],
      "collapsed_sections": [],
      "mount_file_id": "1-2Yzsbx89R24TpQcsc7goIv5M9rgX0TG",
      "authorship_tag": "ABX9TyOfXjf0ASPyIE571VL2nBdJ",
      "include_colab_link": true
    },
    "kernelspec": {
      "name": "python3",
      "display_name": "Python 3"
    }
  },
  "cells": [
    {
      "cell_type": "markdown",
      "metadata": {
        "id": "view-in-github",
        "colab_type": "text"
      },
      "source": [
        "<a href=\"https://colab.research.google.com/github/quantummouse/dm_pandas/blob/master/Data612_1.ipynb\" target=\"_parent\"><img src=\"https://colab.research.google.com/assets/colab-badge.svg\" alt=\"Open In Colab\"/></a>"
      ]
    },
    {
      "cell_type": "markdown",
      "metadata": {
        "id": "qYKZM9OO7cbN"
      },
      "source": [
        "\n",
        "    Alexandria Kalika\n",
        "    Assignment 1\n",
        "    \n",
        "    Select the dataset of your choice from the list provided here.\n",
        "    Load the dataset using Jupyter notebook and explore the data by using the following.\n",
        "\n",
        "    Show the .head() and .tail() of the data set. Specify the number of rows to print using .head() and .tail().\n",
        "    Print the column names.\n",
        "    Print to see what is the type of your data set\n",
        "    Check number of rows and columns.\n",
        "    Use groupby() and find the mean on your selected colum/s.\n",
        "    Add a README file in GitHub where you explain everything you did.\n",
        "  \n"
      ]
    },
    {
      "cell_type": "code",
      "metadata": {
        "id": "vzlILCB17xAK"
      },
      "source": [
        "import pandas as pd"
      ],
      "execution_count": 1,
      "outputs": []
    },
    {
      "cell_type": "code",
      "metadata": {
        "id": "jIRoZJ5Z8kv0",
        "outputId": "b41f11c7-3555-4e4b-c0c9-30a1f899270a",
        "colab": {
          "base_uri": "https://localhost:8080/",
          "height": 74
        }
      },
      "source": [
        "df = pd.read_csv(\"/content/drive/My Drive/Colab Notebooks/State_Drug_Utilization_Data_2010.csv\")\n",
        "\n"
      ],
      "execution_count": 11,
      "outputs": [
        {
          "output_type": "stream",
          "text": [
            "/usr/local/lib/python3.6/dist-packages/IPython/core/interactiveshell.py:2718: DtypeWarning: Columns (4,19) have mixed types.Specify dtype option on import or set low_memory=False.\n",
            "  interactivity=interactivity, compiler=compiler, result=result)\n"
          ],
          "name": "stderr"
        }
      ]
    },
    {
      "cell_type": "code",
      "metadata": {
        "id": "_6PdmuP_OO0k",
        "outputId": "64e32dac-02c5-4c84-d644-639e746d56cd",
        "colab": {
          "base_uri": "https://localhost:8080/",
          "height": 317
        }
      },
      "source": [
        "df.head(4)"
      ],
      "execution_count": 12,
      "outputs": [
        {
          "output_type": "execute_result",
          "data": {
            "text/html": [
              "<div>\n",
              "<style scoped>\n",
              "    .dataframe tbody tr th:only-of-type {\n",
              "        vertical-align: middle;\n",
              "    }\n",
              "\n",
              "    .dataframe tbody tr th {\n",
              "        vertical-align: top;\n",
              "    }\n",
              "\n",
              "    .dataframe thead th {\n",
              "        text-align: right;\n",
              "    }\n",
              "</style>\n",
              "<table border=\"1\" class=\"dataframe\">\n",
              "  <thead>\n",
              "    <tr style=\"text-align: right;\">\n",
              "      <th></th>\n",
              "      <th>Utilization Type</th>\n",
              "      <th>State</th>\n",
              "      <th>Labeler Code</th>\n",
              "      <th>Product Code</th>\n",
              "      <th>Package Size</th>\n",
              "      <th>Year</th>\n",
              "      <th>Quarter</th>\n",
              "      <th>Product Name</th>\n",
              "      <th>Units Reimbursed</th>\n",
              "      <th>Suppression Used</th>\n",
              "      <th>Number of Prescriptions</th>\n",
              "      <th>Total Amount Reimbursed</th>\n",
              "      <th>Medicaid Amount Reimbursed</th>\n",
              "      <th>Non Medicaid Amount Reimbursed</th>\n",
              "      <th>Quarter Begin</th>\n",
              "      <th>Quarter Begin Date</th>\n",
              "      <th>Latitude</th>\n",
              "      <th>Longitude</th>\n",
              "      <th>Location</th>\n",
              "      <th>NDC</th>\n",
              "    </tr>\n",
              "  </thead>\n",
              "  <tbody>\n",
              "    <tr>\n",
              "      <th>0</th>\n",
              "      <td>FFSU</td>\n",
              "      <td>WI</td>\n",
              "      <td>17478</td>\n",
              "      <td>214</td>\n",
              "      <td>20</td>\n",
              "      <td>2010</td>\n",
              "      <td>3</td>\n",
              "      <td>ATROPINE C</td>\n",
              "      <td>NaN</td>\n",
              "      <td>True</td>\n",
              "      <td>NaN</td>\n",
              "      <td>NaN</td>\n",
              "      <td>NaN</td>\n",
              "      <td>NaN</td>\n",
              "      <td>7/1</td>\n",
              "      <td>07/01/2010</td>\n",
              "      <td>37.7680</td>\n",
              "      <td>-78.2057</td>\n",
              "      <td>(37.768, -78.2057)</td>\n",
              "      <td>17478021420</td>\n",
              "    </tr>\n",
              "    <tr>\n",
              "      <th>1</th>\n",
              "      <td>FFSU</td>\n",
              "      <td>NH</td>\n",
              "      <td>409</td>\n",
              "      <td>1165</td>\n",
              "      <td>2</td>\n",
              "      <td>2010</td>\n",
              "      <td>3</td>\n",
              "      <td>BUPIVACAIN</td>\n",
              "      <td>NaN</td>\n",
              "      <td>True</td>\n",
              "      <td>NaN</td>\n",
              "      <td>NaN</td>\n",
              "      <td>NaN</td>\n",
              "      <td>NaN</td>\n",
              "      <td>7/1</td>\n",
              "      <td>07/01/2010</td>\n",
              "      <td>47.5362</td>\n",
              "      <td>-99.7930</td>\n",
              "      <td>(47.5362, -99.793)</td>\n",
              "      <td>409116502</td>\n",
              "    </tr>\n",
              "    <tr>\n",
              "      <th>2</th>\n",
              "      <td>FFSU</td>\n",
              "      <td>XX</td>\n",
              "      <td>338</td>\n",
              "      <td>629</td>\n",
              "      <td>4</td>\n",
              "      <td>2010</td>\n",
              "      <td>4</td>\n",
              "      <td>TRAVASOL 1</td>\n",
              "      <td>164627000.0</td>\n",
              "      <td>False</td>\n",
              "      <td>29.0</td>\n",
              "      <td>27541.1</td>\n",
              "      <td>27541.10</td>\n",
              "      <td>0.00</td>\n",
              "      <td>10/1</td>\n",
              "      <td>10/01/2010</td>\n",
              "      <td>NaN</td>\n",
              "      <td>NaN</td>\n",
              "      <td>NaN</td>\n",
              "      <td>338062904</td>\n",
              "    </tr>\n",
              "    <tr>\n",
              "      <th>3</th>\n",
              "      <td>FFSU</td>\n",
              "      <td>TN</td>\n",
              "      <td>68382</td>\n",
              "      <td>99</td>\n",
              "      <td>6</td>\n",
              "      <td>2010</td>\n",
              "      <td>4</td>\n",
              "      <td>PAROXETINE</td>\n",
              "      <td>11157.5</td>\n",
              "      <td>False</td>\n",
              "      <td>296.0</td>\n",
              "      <td>3131.1</td>\n",
              "      <td>3105.18</td>\n",
              "      <td>25.92</td>\n",
              "      <td>10/1</td>\n",
              "      <td>10/01/2010</td>\n",
              "      <td>41.6772</td>\n",
              "      <td>-71.5101</td>\n",
              "      <td>(41.6772, -71.5101)</td>\n",
              "      <td>68382009906</td>\n",
              "    </tr>\n",
              "  </tbody>\n",
              "</table>\n",
              "</div>"
            ],
            "text/plain": [
              "  Utilization Type State  ...             Location          NDC\n",
              "0             FFSU    WI  ...   (37.768, -78.2057)  17478021420\n",
              "1             FFSU    NH  ...   (47.5362, -99.793)    409116502\n",
              "2             FFSU    XX  ...                  NaN    338062904\n",
              "3             FFSU    TN  ...  (41.6772, -71.5101)  68382009906\n",
              "\n",
              "[4 rows x 20 columns]"
            ]
          },
          "metadata": {
            "tags": []
          },
          "execution_count": 12
        }
      ]
    },
    {
      "cell_type": "code",
      "metadata": {
        "id": "KEoGZVAGPoIO",
        "outputId": "66135c72-2149-4075-9619-d1736a6e5790",
        "colab": {
          "base_uri": "https://localhost:8080/",
          "height": 317
        }
      },
      "source": [
        "df.tail(4)"
      ],
      "execution_count": 13,
      "outputs": [
        {
          "output_type": "execute_result",
          "data": {
            "text/html": [
              "<div>\n",
              "<style scoped>\n",
              "    .dataframe tbody tr th:only-of-type {\n",
              "        vertical-align: middle;\n",
              "    }\n",
              "\n",
              "    .dataframe tbody tr th {\n",
              "        vertical-align: top;\n",
              "    }\n",
              "\n",
              "    .dataframe thead th {\n",
              "        text-align: right;\n",
              "    }\n",
              "</style>\n",
              "<table border=\"1\" class=\"dataframe\">\n",
              "  <thead>\n",
              "    <tr style=\"text-align: right;\">\n",
              "      <th></th>\n",
              "      <th>Utilization Type</th>\n",
              "      <th>State</th>\n",
              "      <th>Labeler Code</th>\n",
              "      <th>Product Code</th>\n",
              "      <th>Package Size</th>\n",
              "      <th>Year</th>\n",
              "      <th>Quarter</th>\n",
              "      <th>Product Name</th>\n",
              "      <th>Units Reimbursed</th>\n",
              "      <th>Suppression Used</th>\n",
              "      <th>Number of Prescriptions</th>\n",
              "      <th>Total Amount Reimbursed</th>\n",
              "      <th>Medicaid Amount Reimbursed</th>\n",
              "      <th>Non Medicaid Amount Reimbursed</th>\n",
              "      <th>Quarter Begin</th>\n",
              "      <th>Quarter Begin Date</th>\n",
              "      <th>Latitude</th>\n",
              "      <th>Longitude</th>\n",
              "      <th>Location</th>\n",
              "      <th>NDC</th>\n",
              "    </tr>\n",
              "  </thead>\n",
              "  <tbody>\n",
              "    <tr>\n",
              "      <th>3124385</th>\n",
              "      <td>FFSU</td>\n",
              "      <td>MN</td>\n",
              "      <td>60505</td>\n",
              "      <td>374</td>\n",
              "      <td>01</td>\n",
              "      <td>2010</td>\n",
              "      <td>2</td>\n",
              "      <td>PAROXETINE</td>\n",
              "      <td>NaN</td>\n",
              "      <td>True</td>\n",
              "      <td>NaN</td>\n",
              "      <td>NaN</td>\n",
              "      <td>NaN</td>\n",
              "      <td>NaN</td>\n",
              "      <td>4/1</td>\n",
              "      <td>04/01/2010</td>\n",
              "      <td>43.3504</td>\n",
              "      <td>-84.5603</td>\n",
              "      <td>(43.3504, -84.5603)</td>\n",
              "      <td>60505037401</td>\n",
              "    </tr>\n",
              "    <tr>\n",
              "      <th>3124386</th>\n",
              "      <td>FFSU</td>\n",
              "      <td>MO</td>\n",
              "      <td>591</td>\n",
              "      <td>410</td>\n",
              "      <td>01</td>\n",
              "      <td>2010</td>\n",
              "      <td>1</td>\n",
              "      <td>DOXYCYCLIN</td>\n",
              "      <td>NaN</td>\n",
              "      <td>True</td>\n",
              "      <td>NaN</td>\n",
              "      <td>NaN</td>\n",
              "      <td>NaN</td>\n",
              "      <td>NaN</td>\n",
              "      <td>1/1</td>\n",
              "      <td>01/01/2010</td>\n",
              "      <td>45.7326</td>\n",
              "      <td>-93.9196</td>\n",
              "      <td>(45.7326, -93.9196)</td>\n",
              "      <td>00591041001</td>\n",
              "    </tr>\n",
              "    <tr>\n",
              "      <th>3124387</th>\n",
              "      <td>MCOU</td>\n",
              "      <td>NJ</td>\n",
              "      <td>603</td>\n",
              "      <td>5684</td>\n",
              "      <td>20</td>\n",
              "      <td>2010</td>\n",
              "      <td>4</td>\n",
              "      <td>Risperidio</td>\n",
              "      <td>NaN</td>\n",
              "      <td>True</td>\n",
              "      <td>NaN</td>\n",
              "      <td>NaN</td>\n",
              "      <td>NaN</td>\n",
              "      <td>NaN</td>\n",
              "      <td>10/1</td>\n",
              "      <td>10/01/2010</td>\n",
              "      <td>41.1289</td>\n",
              "      <td>-98.2883</td>\n",
              "      <td>(41.1289, -98.2883)</td>\n",
              "      <td>00603568420</td>\n",
              "    </tr>\n",
              "    <tr>\n",
              "      <th>3124388</th>\n",
              "      <td>FFSU</td>\n",
              "      <td>ID</td>\n",
              "      <td>51672</td>\n",
              "      <td>1298</td>\n",
              "      <td>03</td>\n",
              "      <td>2010</td>\n",
              "      <td>1</td>\n",
              "      <td>KETOCONAZO</td>\n",
              "      <td>NaN</td>\n",
              "      <td>True</td>\n",
              "      <td>NaN</td>\n",
              "      <td>NaN</td>\n",
              "      <td>NaN</td>\n",
              "      <td>NaN</td>\n",
              "      <td>1/1</td>\n",
              "      <td>01/01/2010</td>\n",
              "      <td>42.0046</td>\n",
              "      <td>-93.2140</td>\n",
              "      <td>(42.0046, -93.214)</td>\n",
              "      <td>51672129803</td>\n",
              "    </tr>\n",
              "  </tbody>\n",
              "</table>\n",
              "</div>"
            ],
            "text/plain": [
              "        Utilization Type State  ...             Location          NDC\n",
              "3124385             FFSU    MN  ...  (43.3504, -84.5603)  60505037401\n",
              "3124386             FFSU    MO  ...  (45.7326, -93.9196)  00591041001\n",
              "3124387             MCOU    NJ  ...  (41.1289, -98.2883)  00603568420\n",
              "3124388             FFSU    ID  ...   (42.0046, -93.214)  51672129803\n",
              "\n",
              "[4 rows x 20 columns]"
            ]
          },
          "metadata": {
            "tags": []
          },
          "execution_count": 13
        }
      ]
    },
    {
      "cell_type": "code",
      "metadata": {
        "id": "iTFWThk7PuZw",
        "outputId": "00a4bcb8-4102-46ec-b6bb-abbc1af2037e",
        "colab": {
          "base_uri": "https://localhost:8080/",
          "height": 389
        }
      },
      "source": [
        "#column names\n",
        "\n",
        "for col in df.columns: print(col)"
      ],
      "execution_count": 22,
      "outputs": [
        {
          "output_type": "stream",
          "text": [
            "Utilization Type\n",
            "State\n",
            "Labeler Code\n",
            "Product Code\n",
            "Package Size\n",
            "Year\n",
            "Quarter\n",
            "Product Name\n",
            "Units Reimbursed\n",
            "Suppression Used\n",
            "Number of Prescriptions\n",
            "Total Amount Reimbursed\n",
            "Medicaid Amount Reimbursed\n",
            "Non Medicaid Amount Reimbursed\n",
            "Quarter Begin\n",
            "Quarter Begin Date\n",
            "Latitude\n",
            "Longitude\n",
            "Location\n",
            "NDC\n"
          ],
          "name": "stdout"
        }
      ]
    },
    {
      "cell_type": "code",
      "metadata": {
        "id": "zlK1Qhi1clgs"
      },
      "source": [
        "#type of dataset\n",
        "type(df)\n"
      ],
      "execution_count": null,
      "outputs": []
    },
    {
      "cell_type": "code",
      "metadata": {
        "id": "jbplWHuMPudd",
        "outputId": "5357610c-afc5-4e0a-d8d7-d74b9cf0de77",
        "colab": {
          "base_uri": "https://localhost:8080/",
          "height": 408
        }
      },
      "source": [
        "#type of the elements\n",
        "df.dtypes"
      ],
      "execution_count": 40,
      "outputs": [
        {
          "output_type": "execute_result",
          "data": {
            "text/plain": [
              "Utilization_Type                   object\n",
              "State                              object\n",
              "Labeler_Code                        int64\n",
              "Product_Code                        int64\n",
              "Package_Size                       object\n",
              "Year                                int64\n",
              "Quarter                             int64\n",
              "Product_Name                       object\n",
              "Units_Reimbursed                  float64\n",
              "Suppression_Used                     bool\n",
              "Number_of_Prescriptions           float64\n",
              "Total_Amount_Reimbursed           float64\n",
              "Medicaid_Amount_Reimbursed        float64\n",
              "Non_Medicaid_Amount_Reimbursed    float64\n",
              "Quarter_Begin                      object\n",
              "Quarter_Begin_Date                 object\n",
              "Latitude                          float64\n",
              "Longitude                         float64\n",
              "Location                           object\n",
              "NDC                                object\n",
              "dtype: object"
            ]
          },
          "metadata": {
            "tags": []
          },
          "execution_count": 40
        }
      ]
    },
    {
      "cell_type": "code",
      "metadata": {
        "id": "tjHfKTFTdoPQ"
      },
      "source": [
        "#number of rows and columns 3124389 rows, 20 columns\n",
        "df.shape"
      ],
      "execution_count": null,
      "outputs": []
    },
    {
      "cell_type": "code",
      "metadata": {
        "id": "EN4FW2x5d4SG"
      },
      "source": [
        "#group by package size to find average of it.\n",
        "#Dealing with spaces in column names\n",
        "df.columns = df.columns.str.replace(' ','_')\n",
        "print(df.columns)\n"
      ],
      "execution_count": null,
      "outputs": []
    },
    {
      "cell_type": "code",
      "metadata": {
        "id": "mDmwYqD4hYjB"
      },
      "source": [
        "avg_size = df.groupby('State')['Total_Amount_Reimbursed'].mean()\n",
        "print(avg_size)"
      ],
      "execution_count": null,
      "outputs": []
    }
  ]
}