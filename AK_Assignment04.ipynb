{
  "nbformat": 4,
  "nbformat_minor": 0,
  "metadata": {
    "colab": {
      "name": "AK_Assignment04.ipynb",
      "provenance": [],
      "machine_shape": "hm",
      "include_colab_link": true
    },
    "kernelspec": {
      "name": "python3",
      "display_name": "Python 3"
    }
  },
  "cells": [
    {
      "cell_type": "markdown",
      "metadata": {
        "id": "view-in-github",
        "colab_type": "text"
      },
      "source": [
        "<a href=\"https://colab.research.google.com/github/quantummouse/dm_pandas/blob/master/AK_Assignment04.ipynb\" target=\"_parent\"><img src=\"https://colab.research.google.com/assets/colab-badge.svg\" alt=\"Open In Colab\"/></a>"
      ]
    },
    {
      "cell_type": "markdown",
      "metadata": {
        "id": "ieZzcgQQKck4"
      },
      "source": [
        "# Assignment for Week 4      \n",
        "(Chapter 4 & 5)"
      ]
    },
    {
      "cell_type": "markdown",
      "metadata": {
        "id": "GeOmQFNKK4Nm"
      },
      "source": [
        "## Action Items:\n",
        "•\tMerge other data to your selected data set.    \n",
        "1. Find another data set, series, text data or a column from another data source and merge with your selected data set.      \n",
        "2. Identify the missing values on your data set. Count the missing values on your data set and then clean your data set from the missing values.       \n",
        "3. Post your work on GitHub     \n",
        "4. Add a README\n"
      ]
    },
    {
      "cell_type": "code",
      "metadata": {
        "id": "u5oNRf10hK47"
      },
      "source": [
        "import pandas as pd\n",
        "import numpy as np\n",
        "from numpy import NaN, NAN, nan"
      ],
      "execution_count": 16,
      "outputs": []
    },
    {
      "cell_type": "code",
      "metadata": {
        "id": "GvxeKpRR8YWJ",
        "outputId": "f6f68b74-5d4a-4877-8b27-6394c59c7056",
        "colab": {
          "base_uri": "https://localhost:8080/"
        }
      },
      "source": [
        " drugsutil = pd.read_csv(\"/content/drive/My Drive/Colab Notebooks/State_Drug_Utilization_Data_2010.csv\")\n",
        " drugsutil2020 = pd.read_csv(\"/content/drive/My Drive/Colab Notebooks/Drug_Utilization_2020_-_Ohio.csv\")"
      ],
      "execution_count": 3,
      "outputs": [
        {
          "output_type": "stream",
          "text": [
            "/usr/local/lib/python3.6/dist-packages/IPython/core/interactiveshell.py:2718: DtypeWarning: Columns (4,19) have mixed types.Specify dtype option on import or set low_memory=False.\n",
            "  interactivity=interactivity, compiler=compiler, result=result)\n"
          ],
          "name": "stderr"
        }
      ]
    },
    {
      "cell_type": "code",
      "metadata": {
        "id": "1UdTx2b4p2aF"
      },
      "source": [
        "#drugsutil2020.head(3)\n"
      ],
      "execution_count": 4,
      "outputs": []
    },
    {
      "cell_type": "code",
      "metadata": {
        "id": "_SWqfkVV85hR"
      },
      "source": [
        "#drugsutil.head(3)"
      ],
      "execution_count": 5,
      "outputs": []
    },
    {
      "cell_type": "markdown",
      "metadata": {
        "id": "TpBASeuJs6ou"
      },
      "source": [
        "I pulled more data drom medicat.data.gov \n",
        "https://data.medicaid.gov/State-Drug-Utilization/State-Drug-Utilization-Data-2020/va5y-jhsv/data\n",
        "\n",
        "For the year 2020. "
      ]
    },
    {
      "cell_type": "code",
      "metadata": {
        "id": "cZFUnDgItDr2"
      },
      "source": [
        "result = pd.merge( drugsutil, drugsutil2020, how=\"outer\")\n",
        "\n"
      ],
      "execution_count": 7,
      "outputs": []
    },
    {
      "cell_type": "code",
      "metadata": {
        "id": "RuDy_ArJEWvG",
        "outputId": "998f171f-f96d-4037-b31b-1ac52ec44a7f",
        "colab": {
          "base_uri": "https://localhost:8080/"
        }
      },
      "source": [
        "print(result.Year)"
      ],
      "execution_count": 9,
      "outputs": [
        {
          "output_type": "stream",
          "text": [
            "0          2010\n",
            "1          2010\n",
            "2          2010\n",
            "3          2010\n",
            "4          2010\n",
            "           ... \n",
            "3201965    2020\n",
            "3201966    2020\n",
            "3201967    2020\n",
            "3201968    2020\n",
            "3201969    2020\n",
            "Name: Year, Length: 3201970, dtype: int64\n"
          ],
          "name": "stdout"
        }
      ]
    },
    {
      "cell_type": "code",
      "metadata": {
        "id": "lkqy_aY8Nfaa",
        "outputId": "0c5e74f7-3b7e-4ada-eece-e6e4552f212c",
        "colab": {
          "base_uri": "https://localhost:8080/"
        }
      },
      "source": [
        "print(pd.isnull(NaN))"
      ],
      "execution_count": 11,
      "outputs": [
        {
          "output_type": "stream",
          "text": [
            "True\n"
          ],
          "name": "stdout"
        }
      ]
    },
    {
      "cell_type": "code",
      "metadata": {
        "id": "i2JGPlHHPbAy",
        "outputId": "08386c41-2113-480d-ce8f-674490180f40",
        "colab": {
          "base_uri": "https://localhost:8080/"
        }
      },
      "source": [
        "print(result.count())"
      ],
      "execution_count": 12,
      "outputs": [
        {
          "output_type": "stream",
          "text": [
            "Utilization Type                  3201970\n",
            "State                             3201970\n",
            "Labeler Code                      3201970\n",
            "Product Code                      3201970\n",
            "Package Size                      3201946\n",
            "Year                              3201970\n",
            "Quarter                           3201970\n",
            "Product Name                      3201241\n",
            "Units Reimbursed                  1577191\n",
            "Suppression Used                  3124389\n",
            "Number of Prescriptions           1577191\n",
            "Total Amount Reimbursed           1577191\n",
            "Medicaid Amount Reimbursed        1577191\n",
            "Non Medicaid Amount Reimbursed    1577191\n",
            "Quarter Begin                     3201970\n",
            "Quarter Begin Date                3201970\n",
            "Latitude                          2983207\n",
            "Longitude                         2983207\n",
            "Location                          2983207\n",
            "NDC                               3201970\n",
            "Supression Used                     77581\n",
            "dtype: int64\n"
          ],
          "name": "stdout"
        }
      ]
    },
    {
      "cell_type": "code",
      "metadata": {
        "id": "xEKtNs1VPj8Y",
        "outputId": "f1b25725-96c9-45a7-bcd5-5302d062eba9",
        "colab": {
          "base_uri": "https://localhost:8080/"
        }
      },
      "source": [
        "result.shape"
      ],
      "execution_count": 14,
      "outputs": [
        {
          "output_type": "execute_result",
          "data": {
            "text/plain": [
              "(3201970, 21)"
            ]
          },
          "metadata": {
            "tags": []
          },
          "execution_count": 14
        }
      ]
    },
    {
      "cell_type": "code",
      "metadata": {
        "id": "1pOilHjuQyuh"
      },
      "source": [
        ""
      ],
      "execution_count": null,
      "outputs": []
    },
    {
      "cell_type": "code",
      "metadata": {
        "id": "iDAsgdiwocEJ",
        "outputId": "e27c652c-1732-48c0-8ce1-c247312dab70",
        "colab": {
          "base_uri": "https://localhost:8080/"
        }
      },
      "source": [
        "num_rows = result.shape[0]\n",
        "\n",
        "num_missing = num_rows - result.count()\n",
        "\n",
        "print(num_missing)"
      ],
      "execution_count": 18,
      "outputs": [
        {
          "output_type": "stream",
          "text": [
            "Utilization Type                        0\n",
            "State                                   0\n",
            "Labeler Code                            0\n",
            "Product Code                            0\n",
            "Package Size                           24\n",
            "Year                                    0\n",
            "Quarter                                 0\n",
            "Product Name                          729\n",
            "Units Reimbursed                  1624779\n",
            "Suppression Used                    77581\n",
            "Number of Prescriptions           1624779\n",
            "Total Amount Reimbursed           1624779\n",
            "Medicaid Amount Reimbursed        1624779\n",
            "Non Medicaid Amount Reimbursed    1624779\n",
            "Quarter Begin                           0\n",
            "Quarter Begin Date                      0\n",
            "Latitude                           218763\n",
            "Longitude                          218763\n",
            "Location                           218763\n",
            "NDC                                     0\n",
            "Supression Used                   3124389\n",
            "dtype: int64\n"
          ],
          "name": "stdout"
        }
      ]
    },
    {
      "cell_type": "code",
      "metadata": {
        "id": "Stx2vmeAQQdq",
        "outputId": "ab8c2785-3b77-43d1-820b-08baba28acb5",
        "colab": {
          "base_uri": "https://localhost:8080/"
        }
      },
      "source": [
        "print(np.count_nonzero(result.isnull()))"
      ],
      "execution_count": 17,
      "outputs": [
        {
          "output_type": "stream",
          "text": [
            "11982907\n"
          ],
          "name": "stdout"
        }
      ]
    },
    {
      "cell_type": "code",
      "metadata": {
        "id": "-fmtFNXRRWkQ"
      },
      "source": [
        "result2 = result.fillna('Missing')"
      ],
      "execution_count": 20,
      "outputs": []
    },
    {
      "cell_type": "code",
      "metadata": {
        "id": "voyB7JFRR1zA",
        "outputId": "a4781e35-55b6-4937-d873-20b98f221652",
        "colab": {
          "base_uri": "https://localhost:8080/"
        }
      },
      "source": [
        "print(np.count_nonzero(result2.isnull()))"
      ],
      "execution_count": 21,
      "outputs": [
        {
          "output_type": "stream",
          "text": [
            "0\n"
          ],
          "name": "stdout"
        }
      ]
    }
  ]
}